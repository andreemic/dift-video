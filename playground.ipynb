{
 "cells": [
  {
   "cell_type": "code",
   "execution_count": 2,
   "metadata": {},
   "outputs": [],
   "source": [
    "%load_ext autoreload\n",
    "%autoreload 2"
   ]
  },
  {
   "cell_type": "code",
   "execution_count": 3,
   "metadata": {},
   "outputs": [],
   "source": [
    "import sys\n",
    "sys.path.append(\"./src/\")\n",
    "sys.path.append(\"../dift/src/models\")"
   ]
  },
  {
   "cell_type": "code",
   "execution_count": 4,
   "metadata": {},
   "outputs": [
    {
     "name": "stdout",
     "output_type": "stream",
     "text": [
      "loaded 158 frames\n"
     ]
    }
   ],
   "source": [
    "from utils import load_frames\n",
    "frames, frames_fpaths = load_frames('../test_videos/frames/bmx_short/color/')\n",
    "print(f'loaded {len(frames)} frames')"
   ]
  },
  {
   "cell_type": "code",
   "execution_count": 5,
   "metadata": {},
   "outputs": [],
   "source": [
    "from src.keypoint_extractor import KeypointExtractor\n",
    "extractor = KeypointExtractor(device='cuda:1')"
   ]
  },
  {
   "cell_type": "markdown",
   "metadata": {},
   "source": [
    "# Run extractor functions separately"
   ]
  },
  {
   "cell_type": "code",
   "execution_count": null,
   "metadata": {},
   "outputs": [],
   "source": [
    "frames = frames[:10]"
   ]
  },
  {
   "cell_type": "code",
   "execution_count": null,
   "metadata": {},
   "outputs": [],
   "source": [
    "features = extractor.img_to_features(frames, 'bmx biker in a skate park')"
   ]
  },
  {
   "cell_type": "code",
   "execution_count": null,
   "metadata": {},
   "outputs": [],
   "source": [
    "src_ft = features[0].unsqueeze(0)\n",
    "target_features = features[6:7]\n",
    "correspondences = extractor.get_correspondence(src_ft, target_features, (100, 100))"
   ]
  },
  {
   "cell_type": "code",
   "execution_count": null,
   "metadata": {},
   "outputs": [],
   "source": [
    "correspondences"
   ]
  },
  {
   "cell_type": "markdown",
   "metadata": {},
   "source": [
    "# Video Tracking"
   ]
  },
  {
   "cell_type": "code",
   "execution_count": 6,
   "metadata": {},
   "outputs": [],
   "source": [
    "from performance import PerformanceManager"
   ]
  },
  {
   "cell_type": "code",
   "execution_count": 15,
   "metadata": {},
   "outputs": [
    {
     "name": "stderr",
     "output_type": "stream",
     "text": [
      "Extracting features from images: 100%|██████████| 10/10 [00:04<00:00,  2.49it/s]\n",
      "Finding correspondences for keypoints: 100%|██████████| 100/100 [00:29<00:00,  3.38keypoint/s]\n",
      "Tracking keypoints:  20%|██        | 2/10 [00:29<01:58, 14.78s/frame]"
     ]
    }
   ],
   "source": [
    "perf_manager = PerformanceManager()\n",
    "extractor.track_keypoints(frames[:10], prompt='biker in a skate park', source_frame_idx=0, grid_size=10, perf_manager=perf_manager)"
   ]
  },
  {
   "cell_type": "code",
   "execution_count": 13,
   "metadata": {},
   "outputs": [
    {
     "name": "stdout",
     "output_type": "stream",
     "text": [
      "+-----------------------------------+------------------+--------------------------+--------------+----------------+\n",
      "|                Name               | Average Time (s) | 95th Percentile Time (s) | Num recorded | Total time (s) |\n",
      "+-----------------------------------+------------------+--------------------------+--------------+----------------+\n",
      "|    extract_features_from_image    |      0.3995      |          0.4163          |      10      |     3.9954     |\n",
      "|         upsample_features         |      0.8434      |          0.8434          |      1       |     0.8434     |\n",
      "|        init_cos_similarity        |      0.0002      |          0.0002          |     900      |     0.1422     |\n",
      "|           cos_similarity          |      0.0143      |          0.0145          |     900      |    12.9023     |\n",
      "|      get_max_xy_from_cos_map      |      0.0001      |          0.0002          |     900      |     0.1158     |\n",
      "| get_frame_to_frame_correspondence |     25.7766      |         29.2376          |      9       |    231.9898    |\n",
      "+-----------------------------------+------------------+--------------------------+--------------+----------------+\n"
     ]
    }
   ],
   "source": [
    "perf_manager.print_summary()"
   ]
  },
  {
   "cell_type": "code",
   "execution_count": 11,
   "metadata": {},
   "outputs": [
    {
     "name": "stdout",
     "output_type": "stream",
     "text": [
      "+-----------------------------------+------------------+--------------------------+--------------+----------------+\n",
      "|                Name               | Average Time (s) | 95th Percentile Time (s) | Num recorded | Total time (s) |\n",
      "+-----------------------------------+------------------+--------------------------+--------------+----------------+\n",
      "|    extract_features_from_image    |      0.3611      |          0.4035          |      2       |     0.7222     |\n",
      "|         upsample_features         |      0.1753      |          0.1753          |      1       |     0.1753     |\n",
      "|        init_cos_similarity        |      0.0003      |          0.0004          |      4       |     0.0012     |\n",
      "|           cos_similarity          |      0.0165      |          0.0214          |      4       |     0.0658     |\n",
      "|      get_max_xy_from_cos_map      |      0.0002      |          0.0003          |      4       |     0.0009     |\n",
      "| get_frame_to_frame_correspondence |      1.1630      |          1.1630          |      1       |     1.1630     |\n",
      "+-----------------------------------+------------------+--------------------------+--------------+----------------+\n"
     ]
    }
   ],
   "source": []
  },
  {
   "cell_type": "markdown",
   "metadata": {},
   "source": [
    "# Test cos similarity speed"
   ]
  },
  {
   "cell_type": "markdown",
   "metadata": {},
   "source": []
  }
 ],
 "metadata": {
  "kernelspec": {
   "display_name": "dift",
   "language": "python",
   "name": "python3"
  },
  "language_info": {
   "codemirror_mode": {
    "name": "ipython",
    "version": 3
   },
   "file_extension": ".py",
   "mimetype": "text/x-python",
   "name": "python",
   "nbconvert_exporter": "python",
   "pygments_lexer": "ipython3",
   "version": "3.10.9"
  },
  "orig_nbformat": 4
 },
 "nbformat": 4,
 "nbformat_minor": 2
}
