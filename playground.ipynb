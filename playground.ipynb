{
 "cells": [
  {
   "cell_type": "markdown",
   "metadata": {},
   "source": []
  },
  {
   "cell_type": "code",
   "execution_count": null,
   "metadata": {},
   "outputs": [],
   "source": [
    "%load_ext autoreload\n",
    "%autoreload 2"
   ]
  },
  {
   "cell_type": "code",
   "execution_count": null,
   "metadata": {},
   "outputs": [],
   "source": [
    "import sys\n",
    "sys.path.append(\"./src/\")\n",
    "sys.path.append(\"../dift/src/models\")"
   ]
  },
  {
   "cell_type": "code",
   "execution_count": null,
   "metadata": {},
   "outputs": [],
   "source": [
    "from utils import load_frames\n",
    "frames, frames_fpaths = load_frames('../test_videos/frames/bmx_short/color/')\n",
    "print(f'loaded {len(frames)} frames')"
   ]
  },
  {
   "cell_type": "code",
   "execution_count": null,
   "metadata": {},
   "outputs": [],
   "source": [
    "from src.keypoint_extractor import KeypointExtractor\n",
    "extractor = KeypointExtractor(device='cuda:1')"
   ]
  },
  {
   "cell_type": "code",
   "execution_count": null,
   "metadata": {},
   "outputs": [],
   "source": []
  },
  {
   "cell_type": "markdown",
   "metadata": {},
   "source": [
    "# Run extractor functions separately"
   ]
  },
  {
   "cell_type": "code",
   "execution_count": null,
   "metadata": {},
   "outputs": [],
   "source": [
    "frames = frames[:10]"
   ]
  },
  {
   "cell_type": "code",
   "execution_count": null,
   "metadata": {},
   "outputs": [],
   "source": [
    "features = extractor.img_to_features(frames, 'bmx biker in a skate park')"
   ]
  },
  {
   "cell_type": "code",
   "execution_count": null,
   "metadata": {},
   "outputs": [],
   "source": [
    "src_ft = features[0].unsqueeze(0)\n",
    "target_features = features[6:7]\n",
    "correspondences = extractor.get_correspondence(src_ft, target_features, (100, 100))"
   ]
  },
  {
   "cell_type": "code",
   "execution_count": null,
   "metadata": {},
   "outputs": [],
   "source": [
    "correspondences"
   ]
  },
  {
   "cell_type": "markdown",
   "metadata": {},
   "source": [
    "# Video Tracking"
   ]
  },
  {
   "cell_type": "code",
   "execution_count": null,
   "metadata": {},
   "outputs": [],
   "source": [
    "from performance import PerformanceManager"
   ]
  },
  {
   "cell_type": "code",
   "execution_count": null,
   "metadata": {},
   "outputs": [],
   "source": [
    "perf_manager = PerformanceManager()\n",
    "keypoints = extractor.track_keypoints(frames[:100], prompt='biker in a skate park', source_frame_idx=0, grid_size=10, perf_manager=perf_manager)"
   ]
  },
  {
   "cell_type": "code",
   "execution_count": null,
   "metadata": {},
   "outputs": [],
   "source": [
    "keypoints"
   ]
  },
  {
   "cell_type": "code",
   "execution_count": null,
   "metadata": {},
   "outputs": [],
   "source": [
    "from utils import draw_keypoint_on_frame\n",
    "frame = frames[9].copy()\n",
    "for keypoint in keypoints[9]:\n",
    "    frame = draw_keypoint_on_frame(frame, keypoint, dynamic_color=True, radius=1.5)\n",
    "frame"
   ]
  },
  {
   "cell_type": "code",
   "execution_count": null,
   "metadata": {},
   "outputs": [],
   "source": [
    "perf_manager.print_summary()"
   ]
  },
  {
   "cell_type": "code",
   "execution_count": null,
   "metadata": {},
   "outputs": [],
   "source": []
  },
  {
   "cell_type": "code",
   "execution_count": null,
   "metadata": {},
   "outputs": [],
   "source": []
  },
  {
   "cell_type": "markdown",
   "metadata": {},
   "source": [
    "# Test video saving"
   ]
  },
  {
   "cell_type": "markdown",
   "metadata": {},
   "source": []
  },
  {
   "cell_type": "code",
   "execution_count": null,
   "metadata": {},
   "outputs": [],
   "source": [
    "import cv2\n",
    "import numpy as np\n",
    "from PIL import Image\n",
    "import subprocess\n",
    "import os\n",
    "\n",
    "def save_frames_as_video(frames, fpath, fps=24):\n",
    "    \"\"\"\n",
    "    Save a list of PIL Image frames as an mp4 video and then convert it to webm using FFmpeg.\n",
    "    \n",
    "    Parameters:\n",
    "    - frames: List of PIL Image objects\n",
    "    - fpath: Path where the mp4 video will be saved\n",
    "    - fps: Desired frames per second for the output video (default: 24)\n",
    "    \n",
    "    Returns:\n",
    "    None\n",
    "    \"\"\"\n",
    "    \n",
    "    # Check if there are frames\n",
    "    if not frames:\n",
    "        raise ValueError(\"No frames provided\")\n",
    "    \n",
    "    # Convert the first frame to numpy to get the dimensions\n",
    "    frame_np = np.array(frames[0])\n",
    "    h, w, layers = frame_np.shape\n",
    "    size = (w, h)\n",
    "    \n",
    "    _, ext = os.path.splitext(fpath)\n",
    "    if ext != '.webm':\n",
    "        raise ValueError(\"Output file must be a webm video\")\n",
    "\n",
    "    temp_fpath = fpath.replace('.webm', '.mp4')\n",
    "    \n",
    "    # Define the codec using VideoWriter_fourcc and create a VideoWriter object\n",
    "    out = cv2.VideoWriter(temp_fpath, cv2.VideoWriter_fourcc(*'mp4v'), fps, size)\n",
    "    \n",
    "    for frame in frames:\n",
    "        # Convert PIL Image to NumPy array\n",
    "        frame_np = np.array(frame)\n",
    "        \n",
    "        # Convert RGB to BGR format (as OpenCV works with BGR for writing videos)\n",
    "        frame_bgr = cv2.cvtColor(frame_np, cv2.COLOR_RGB2BGR)\n",
    "        \n",
    "        # Write the frame to the video\n",
    "        out.write(frame_bgr)\n",
    "    \n",
    "    # Release the VideoWriter\n",
    "    out.release()\n",
    "\n",
    "    print(f'Video saved to {temp_fpath}; converting to {fpath}')\n",
    "    \n",
    "    # Construct the FFmpeg command\n",
    "    cmd = ['/usr/bin/ffmpeg', '-y', '-i', temp_fpath, '-c:v', 'libvpx-vp9', '-b:v', '1M', '-c:a', 'libopus', fpath]\n",
    "\n",
    "\n",
    "\n",
    "    # Run the FFmpeg command\n",
    "    subprocess.run(cmd, check=True)\n",
    "    # remove mp4 temp file\n",
    "    os.remove(temp_fpath)"
   ]
  },
  {
   "cell_type": "code",
   "execution_count": null,
   "metadata": {},
   "outputs": [],
   "source": [
    "save_frames_as_video(frames, 'test.webm')"
   ]
  },
  {
   "cell_type": "code",
   "execution_count": null,
   "metadata": {},
   "outputs": [],
   "source": []
  }
 ],
 "metadata": {
  "kernelspec": {
   "display_name": "dift",
   "language": "python",
   "name": "python3"
  },
  "language_info": {
   "codemirror_mode": {
    "name": "ipython",
    "version": 3
   },
   "file_extension": ".py",
   "mimetype": "text/x-python",
   "name": "python",
   "nbconvert_exporter": "python",
   "pygments_lexer": "ipython3",
   "version": "3.1.0"
  },
  "orig_nbformat": 4
 },
 "nbformat": 4,
 "nbformat_minor": 2
}
